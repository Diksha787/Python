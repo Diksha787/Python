{
 "cells": [
  {
   "cell_type": "markdown",
   "id": "33b95f63",
   "metadata": {},
   "source": [
    "# Python Operators\n",
    "    Logical\n",
    "    Equality\n",
    "    Comparision\n",
    "    Arithmetic"
   ]
  },
  {
   "cell_type": "raw",
   "id": "cadff993",
   "metadata": {},
   "source": [
    "# 4.1.1 Logical Operators\n",
    "In python following keywords are used for boolean operations -\n",
    "\n",
    "Keywords\t Meaning\n",
    "    not\t     unary negation\n",
    "    and\t     conditional AND\n",
    "    or\t     conditional OR"
   ]
  },
  {
   "cell_type": "code",
   "execution_count": 1,
   "id": "e3383073",
   "metadata": {},
   "outputs": [
    {
     "data": {
      "text/plain": [
       "bool"
      ]
     },
     "execution_count": 1,
     "metadata": {},
     "output_type": "execute_result"
    }
   ],
   "source": [
    "type(False)"
   ]
  },
  {
   "cell_type": "code",
   "execution_count": 2,
   "id": "933f1511",
   "metadata": {},
   "outputs": [
    {
     "data": {
      "text/plain": [
       "True"
      ]
     },
     "execution_count": 2,
     "metadata": {},
     "output_type": "execute_result"
    }
   ],
   "source": [
    "bool(1)"
   ]
  },
  {
   "cell_type": "code",
   "execution_count": 3,
   "id": "5aa2e323",
   "metadata": {},
   "outputs": [
    {
     "data": {
      "text/plain": [
       "False"
      ]
     },
     "execution_count": 3,
     "metadata": {},
     "output_type": "execute_result"
    }
   ],
   "source": [
    "bool(0)"
   ]
  },
  {
   "cell_type": "code",
   "execution_count": 4,
   "id": "17bf2aff",
   "metadata": {},
   "outputs": [],
   "source": [
    "a=True\n",
    "b=False"
   ]
  },
  {
   "cell_type": "code",
   "execution_count": 5,
   "id": "3b1ee664",
   "metadata": {},
   "outputs": [
    {
     "data": {
      "text/plain": [
       "False"
      ]
     },
     "execution_count": 5,
     "metadata": {},
     "output_type": "execute_result"
    }
   ],
   "source": [
    "True and False"
   ]
  },
  {
   "cell_type": "code",
   "execution_count": 6,
   "id": "c35611dd",
   "metadata": {},
   "outputs": [
    {
     "data": {
      "text/plain": [
       "True"
      ]
     },
     "execution_count": 6,
     "metadata": {},
     "output_type": "execute_result"
    }
   ],
   "source": [
    "True or False"
   ]
  },
  {
   "cell_type": "code",
   "execution_count": 7,
   "id": "66444f96",
   "metadata": {},
   "outputs": [
    {
     "data": {
      "text/plain": [
       "True"
      ]
     },
     "execution_count": 7,
     "metadata": {},
     "output_type": "execute_result"
    }
   ],
   "source": [
    "not False"
   ]
  },
  {
   "cell_type": "code",
   "execution_count": 9,
   "id": "72738e5e",
   "metadata": {},
   "outputs": [
    {
     "name": "stdout",
     "output_type": "stream",
     "text": [
      "Enter the age15\n",
      "Successful execution\n"
     ]
    }
   ],
   "source": [
    "age=int(input(\"Enter the age\"))\n",
    "if age<18 or age>=35:\n",
    "    print(\"Successful execution\")"
   ]
  },
  {
   "cell_type": "markdown",
   "id": "8f5b233b",
   "metadata": {},
   "source": [
    "# Equality Operators\n",
    "Following operations are present in python for equlity check operation-"
   ]
  },
  {
   "cell_type": "raw",
   "id": "f1fe10c4",
   "metadata": {},
   "source": [
    "\n",
    "Operators\t Meaning\n",
    "is\t         a is b returns true if variable/identifiers a and b points to the same object\n",
    "is not\t     a is not b returns true if variable/identifiers a and b points to the different object\n",
    "==\t         a == b returns true if variable/identifiers a and b has same value\n",
    "!=\t         a != b returns true if variable/identifiers a and b has different value"
   ]
  },
  {
   "cell_type": "code",
   "execution_count": 10,
   "id": "bd0752c7",
   "metadata": {},
   "outputs": [
    {
     "data": {
      "text/plain": [
       "False"
      ]
     },
     "execution_count": 10,
     "metadata": {},
     "output_type": "execute_result"
    }
   ],
   "source": [
    "a=\"Krish\"\n",
    "b=\"Krish1\"\n",
    "\n",
    "a==b"
   ]
  },
  {
   "cell_type": "code",
   "execution_count": 11,
   "id": "958b2d6c",
   "metadata": {},
   "outputs": [
    {
     "data": {
      "text/plain": [
       "False"
      ]
     },
     "execution_count": 11,
     "metadata": {},
     "output_type": "execute_result"
    }
   ],
   "source": [
    "a=\"Krish\"\n",
    "b=\"Krish1\"\n",
    "\n",
    "a is b"
   ]
  },
  {
   "cell_type": "code",
   "execution_count": 12,
   "id": "f8c22772",
   "metadata": {},
   "outputs": [
    {
     "data": {
      "text/plain": [
       "True"
      ]
     },
     "execution_count": 12,
     "metadata": {},
     "output_type": "execute_result"
    }
   ],
   "source": [
    "a=\"Krish\"\n",
    "b=\"Krish1\"\n",
    "\n",
    "a is not b"
   ]
  },
  {
   "cell_type": "code",
   "execution_count": 13,
   "id": "09a8357b",
   "metadata": {},
   "outputs": [
    {
     "data": {
      "text/plain": [
       "True"
      ]
     },
     "execution_count": 13,
     "metadata": {},
     "output_type": "execute_result"
    }
   ],
   "source": [
    "a=\"Diksha\"\n",
    "b=\"Soni\"\n",
    "\n",
    "a != b"
   ]
  },
  {
   "cell_type": "code",
   "execution_count": 14,
   "id": "4da8d6e0",
   "metadata": {},
   "outputs": [
    {
     "name": "stdout",
     "output_type": "stream",
     "text": [
      "55\n"
     ]
    }
   ],
   "source": [
    "print(\"5\"+\"5\")"
   ]
  },
  {
   "cell_type": "code",
   "execution_count": 16,
   "id": "0b5069f0",
   "metadata": {},
   "outputs": [
    {
     "name": "stdout",
     "output_type": "stream",
     "text": [
      "2425476214704\n",
      "2425476236528\n"
     ]
    }
   ],
   "source": [
    "a=\"Diksha\"\n",
    "b=\"Soni\"\n",
    "print(id(a))\n",
    "print(id(b))"
   ]
  },
  {
   "cell_type": "code",
   "execution_count": 17,
   "id": "119cedc8",
   "metadata": {},
   "outputs": [
    {
     "name": "stdout",
     "output_type": "stream",
     "text": [
      "2425475910464\n",
      "2425475829696\n"
     ]
    }
   ],
   "source": [
    "lst=[1,2,3]\n",
    "lst1=[1,2,3]\n",
    "print(id(lst))\n",
    "print(id(lst1))"
   ]
  },
  {
   "cell_type": "markdown",
   "id": "e660135d",
   "metadata": {},
   "source": [
    "# comparison operators"
   ]
  },
  {
   "cell_type": "raw",
   "id": "cbe63dfb",
   "metadata": {},
   "source": [
    "\n",
    "Operation\t Meaning\n",
    "\n",
    "<\t        less than\n",
    "<=\t        less than or equal to\n",
    ">\t        greater than\n",
    ">=\t        greater than or equal to"
   ]
  },
  {
   "cell_type": "code",
   "execution_count": 19,
   "id": "94ca9dd8",
   "metadata": {},
   "outputs": [
    {
     "name": "stdout",
     "output_type": "stream",
     "text": [
      "Enter the marks55\n",
      "Pass\n",
      "First\n"
     ]
    }
   ],
   "source": [
    "marks= float(input(\"Enter the marks\"))\n",
    "\n",
    "if marks>=35:\n",
    "    print(\"Pass\")\n",
    "    if marks>=50 and marks<=70:\n",
    "        print(\"First\")\n",
    "elif marks<35:\n",
    "    print(\"Fail\")"
   ]
  },
  {
   "cell_type": "markdown",
   "id": "b4ef4de6",
   "metadata": {},
   "source": [
    "# Arithmetic Operators"
   ]
  },
  {
   "cell_type": "raw",
   "id": "d6017f7d",
   "metadata": {},
   "source": [
    "\n",
    "Operation\tMeaning\n",
    "+\t        addition\n",
    "-\t        subtraction\n",
    "*\t        multiplication\n",
    "/\t        true division\n",
    "//\t        integer division\n",
    "%\t        the modulo operator"
   ]
  },
  {
   "cell_type": "code",
   "execution_count": 20,
   "id": "91652035",
   "metadata": {},
   "outputs": [
    {
     "name": "stdout",
     "output_type": "stream",
     "text": [
      "48\n",
      "24\n",
      "1152\n",
      "12.0\n",
      "9\n",
      "3\n"
     ]
    }
   ],
   "source": [
    "print(24+24)\n",
    "\n",
    "print(48-24)\n",
    "\n",
    "print(48*24)\n",
    "\n",
    "print(48/4)\n",
    "\n",
    "print(48//5)\n",
    "\n",
    "print(48%5)\n"
   ]
  },
  {
   "cell_type": "code",
   "execution_count": null,
   "id": "1a3da274",
   "metadata": {},
   "outputs": [],
   "source": []
  }
 ],
 "metadata": {
  "kernelspec": {
   "display_name": "Python 3",
   "language": "python",
   "name": "python3"
  },
  "language_info": {
   "codemirror_mode": {
    "name": "ipython",
    "version": 3
   },
   "file_extension": ".py",
   "mimetype": "text/x-python",
   "name": "python",
   "nbconvert_exporter": "python",
   "pygments_lexer": "ipython3",
   "version": "3.8.8"
  }
 },
 "nbformat": 4,
 "nbformat_minor": 5
}
