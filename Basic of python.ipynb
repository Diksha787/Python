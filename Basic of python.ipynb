{
 "cells": [
  {
   "cell_type": "code",
   "execution_count": 1,
   "id": "527c47a0",
   "metadata": {},
   "outputs": [
    {
     "name": "stdout",
     "output_type": "stream",
     "text": [
      "Hello world\n",
      "Welcome To my channel\n"
     ]
    }
   ],
   "source": [
    "print(\"Hello world\")\n",
    "print(\"Welcome To my channel\")"
   ]
  },
  {
   "cell_type": "code",
   "execution_count": 2,
   "id": "fd452ede",
   "metadata": {},
   "outputs": [
    {
     "name": "stdout",
     "output_type": "stream",
     "text": [
      "Hello\n"
     ]
    }
   ],
   "source": [
    "# Single Line and multiline comments\n",
    "'''\n",
    "Welcome to my youtube\n",
    "channel\n",
    "\n",
    "'''\n",
    "print(\"Hello\")\n"
   ]
  },
  {
   "cell_type": "code",
   "execution_count": 3,
   "id": "b1f9763a",
   "metadata": {},
   "outputs": [
    {
     "data": {
      "text/plain": [
       "int"
      ]
     },
     "execution_count": 3,
     "metadata": {},
     "output_type": "execute_result"
    }
   ],
   "source": [
    "# Variable declaration\n",
    "a=10\n",
    "type(a)"
   ]
  },
  {
   "cell_type": "code",
   "execution_count": 4,
   "id": "fe28e94e",
   "metadata": {},
   "outputs": [
    {
     "name": "stdout",
     "output_type": "stream",
     "text": [
      "10\n"
     ]
    }
   ],
   "source": [
    "print(a)"
   ]
  },
  {
   "cell_type": "code",
   "execution_count": 5,
   "id": "61b0a350",
   "metadata": {},
   "outputs": [],
   "source": [
    "tenth=10\n",
    "b=40\n",
    "c=\"krish\""
   ]
  },
  {
   "cell_type": "code",
   "execution_count": 6,
   "id": "ed9535f7",
   "metadata": {},
   "outputs": [
    {
     "data": {
      "text/plain": [
       "str"
      ]
     },
     "execution_count": 6,
     "metadata": {},
     "output_type": "execute_result"
    }
   ],
   "source": [
    "type(c)"
   ]
  },
  {
   "cell_type": "code",
   "execution_count": 7,
   "id": "fcc30d32",
   "metadata": {},
   "outputs": [],
   "source": [
    "a1=10"
   ]
  },
  {
   "cell_type": "code",
   "execution_count": 8,
   "id": "99b66a7b",
   "metadata": {},
   "outputs": [
    {
     "name": "stdout",
     "output_type": "stream",
     "text": [
      "Krish\n"
     ]
    }
   ],
   "source": [
    "first_name=\"Krish\"\n",
    "print(first_name)"
   ]
  },
  {
   "cell_type": "code",
   "execution_count": 9,
   "id": "8ae5d0c7",
   "metadata": {},
   "outputs": [
    {
     "data": {
      "text/plain": [
       "int"
      ]
     },
     "execution_count": 9,
     "metadata": {},
     "output_type": "execute_result"
    }
   ],
   "source": [
    "##integers\n",
    "a=10\n",
    "type(a)"
   ]
  },
  {
   "cell_type": "code",
   "execution_count": 12,
   "id": "f5eb0b21",
   "metadata": {},
   "outputs": [
    {
     "name": "stdout",
     "output_type": "stream",
     "text": [
      "20\n",
      "100\n",
      "1.0\n",
      "0\n"
     ]
    }
   ],
   "source": [
    "print(a+10)\n",
    "print(a*10)\n",
    "print(a/10)\n",
    "print(a%10)"
   ]
  },
  {
   "cell_type": "code",
   "execution_count": 13,
   "id": "fb3c040e",
   "metadata": {},
   "outputs": [
    {
     "name": "stdout",
     "output_type": "stream",
     "text": [
      "<class 'int'>\n"
     ]
    }
   ],
   "source": [
    "print(type(a))"
   ]
  },
  {
   "cell_type": "code",
   "execution_count": 14,
   "id": "98605c74",
   "metadata": {},
   "outputs": [
    {
     "name": "stdout",
     "output_type": "stream",
     "text": [
      "30\n"
     ]
    }
   ],
   "source": [
    "a=10\n",
    "b=20\n",
    "print(a+b)"
   ]
  },
  {
   "cell_type": "code",
   "execution_count": 15,
   "id": "587b3f22",
   "metadata": {},
   "outputs": [
    {
     "data": {
      "text/plain": [
       "190.5"
      ]
     },
     "execution_count": 15,
     "metadata": {},
     "output_type": "execute_result"
    }
   ],
   "source": [
    "#floating\n",
    "a=190.5\n",
    "a"
   ]
  },
  {
   "cell_type": "code",
   "execution_count": 16,
   "id": "96270333",
   "metadata": {},
   "outputs": [
    {
     "name": "stdout",
     "output_type": "stream",
     "text": [
      "<class 'float'>\n"
     ]
    }
   ],
   "source": [
    "##Typecasting\n",
    "print(type(a))"
   ]
  },
  {
   "cell_type": "code",
   "execution_count": 17,
   "id": "07b8165e",
   "metadata": {},
   "outputs": [
    {
     "data": {
      "text/plain": [
       "20.0"
      ]
     },
     "execution_count": 17,
     "metadata": {},
     "output_type": "execute_result"
    }
   ],
   "source": [
    "float(b)"
   ]
  },
  {
   "cell_type": "code",
   "execution_count": 18,
   "id": "7769d513",
   "metadata": {},
   "outputs": [],
   "source": [
    "##Boolean\n",
    "a1=True\n",
    "b1=False"
   ]
  },
  {
   "cell_type": "code",
   "execution_count": 19,
   "id": "18213c3f",
   "metadata": {},
   "outputs": [
    {
     "data": {
      "text/plain": [
       "bool"
      ]
     },
     "execution_count": 19,
     "metadata": {},
     "output_type": "execute_result"
    }
   ],
   "source": [
    "type(a1)"
   ]
  },
  {
   "cell_type": "code",
   "execution_count": 20,
   "id": "9443c996",
   "metadata": {},
   "outputs": [
    {
     "data": {
      "text/plain": [
       "True"
      ]
     },
     "execution_count": 20,
     "metadata": {},
     "output_type": "execute_result"
    }
   ],
   "source": [
    "a1 | b1"
   ]
  },
  {
   "cell_type": "code",
   "execution_count": 4,
   "id": "5a01ad42",
   "metadata": {},
   "outputs": [
    {
     "name": "stdout",
     "output_type": "stream",
     "text": [
      "Diksha\n",
      "<class 'str'>\n"
     ]
    }
   ],
   "source": [
    "#strings\n",
    "name1=\"Diksha\"\n",
    "\n",
    "print(name1)\n",
    "print(type(name1))"
   ]
  },
  {
   "cell_type": "code",
   "execution_count": 6,
   "id": "92fd5e93",
   "metadata": {},
   "outputs": [
    {
     "data": {
      "text/plain": [
       "'DikshaSoni'"
      ]
     },
     "execution_count": 6,
     "metadata": {},
     "output_type": "execute_result"
    }
   ],
   "source": [
    "name1+ \"Soni\""
   ]
  },
  {
   "cell_type": "code",
   "execution_count": 7,
   "id": "1b1fac3b",
   "metadata": {},
   "outputs": [
    {
     "data": {
      "text/plain": [
       "'Diksha1'"
      ]
     },
     "execution_count": 7,
     "metadata": {},
     "output_type": "execute_result"
    }
   ],
   "source": [
    "name1 + str(1)"
   ]
  },
  {
   "cell_type": "code",
   "execution_count": 25,
   "id": "bba8094d",
   "metadata": {},
   "outputs": [
    {
     "data": {
      "text/plain": [
       "(1-2.3j)"
      ]
     },
     "execution_count": 25,
     "metadata": {},
     "output_type": "execute_result"
    }
   ],
   "source": [
    "##complex numbers\n",
    "j=1.0-2.3j\n",
    "j"
   ]
  },
  {
   "cell_type": "code",
   "execution_count": 26,
   "id": "da476ee3",
   "metadata": {},
   "outputs": [
    {
     "name": "stdout",
     "output_type": "stream",
     "text": [
      "1.0 -2.3\n"
     ]
    }
   ],
   "source": [
    "print(j.real,j.imag)"
   ]
  },
  {
   "cell_type": "code",
   "execution_count": 27,
   "id": "07665c02",
   "metadata": {},
   "outputs": [],
   "source": [
    "import os"
   ]
  },
  {
   "cell_type": "code",
   "execution_count": 28,
   "id": "83717c05",
   "metadata": {},
   "outputs": [
    {
     "data": {
      "text/plain": [
       "0"
      ]
     },
     "execution_count": 28,
     "metadata": {},
     "output_type": "execute_result"
    }
   ],
   "source": [
    "os.system('shutdown -s')"
   ]
  },
  {
   "cell_type": "code",
   "execution_count": 1,
   "id": "d5e7afb4",
   "metadata": {},
   "outputs": [],
   "source": [
    "#Dynamic Typing\n",
    "a=10\n",
    "a='Diksha'"
   ]
  },
  {
   "cell_type": "code",
   "execution_count": 3,
   "id": "2b562176",
   "metadata": {},
   "outputs": [],
   "source": [
    "#strong typing\n",
    "a=\"Diksha\""
   ]
  },
  {
   "cell_type": "code",
   "execution_count": 8,
   "id": "b7b754bc",
   "metadata": {},
   "outputs": [
    {
     "data": {
      "text/plain": [
       "'Diksha1'"
      ]
     },
     "execution_count": 8,
     "metadata": {},
     "output_type": "execute_result"
    }
   ],
   "source": [
    "a+ str(1)"
   ]
  },
  {
   "cell_type": "code",
   "execution_count": 9,
   "id": "16b6e85e",
   "metadata": {},
   "outputs": [
    {
     "name": "stdout",
     "output_type": "stream",
     "text": [
      "The values is -  100\n"
     ]
    }
   ],
   "source": [
    "#string Formatting\n",
    "\n",
    "a=100\n",
    "print(\"The values is - \",a)"
   ]
  },
  {
   "cell_type": "code",
   "execution_count": 10,
   "id": "f8a8c033",
   "metadata": {},
   "outputs": [
    {
     "name": "stdout",
     "output_type": "stream",
     "text": [
      "The first name is Diksha and last name is Soni\n"
     ]
    }
   ],
   "source": [
    "first_name=\"Diksha\"\n",
    "last_name=\"Soni\"\n",
    "print(\"The first name is {a} and last name is {b}\".format(b=last_name,a=first_name))"
   ]
  },
  {
   "cell_type": "code",
   "execution_count": 11,
   "id": "d57fc580",
   "metadata": {},
   "outputs": [
    {
     "name": "stdout",
     "output_type": "stream",
     "text": [
      "Enter the number A 12\n",
      "enter the number B 25\n",
      "37\n"
     ]
    }
   ],
   "source": [
    "## input type\n",
    "a=input(\"Enter the number A \")\n",
    "b=input(\"enter the number B \") \n",
    "print(int(a)+int(b))"
   ]
  },
  {
   "cell_type": "code",
   "execution_count": null,
   "id": "672d96ed",
   "metadata": {},
   "outputs": [],
   "source": []
  }
 ],
 "metadata": {
  "kernelspec": {
   "display_name": "Python 3",
   "language": "python",
   "name": "python3"
  },
  "language_info": {
   "codemirror_mode": {
    "name": "ipython",
    "version": 3
   },
   "file_extension": ".py",
   "mimetype": "text/x-python",
   "name": "python",
   "nbconvert_exporter": "python",
   "pygments_lexer": "ipython3",
   "version": "3.8.8"
  }
 },
 "nbformat": 4,
 "nbformat_minor": 5
}
