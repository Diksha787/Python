{
 "cells": [
  {
   "cell_type": "code",
   "execution_count": 1,
   "id": "7e4f4b46",
   "metadata": {},
   "outputs": [
    {
     "name": "stdout",
     "output_type": "stream",
     "text": [
      "Enter the number 52\n",
      "the number is even\n"
     ]
    }
   ],
   "source": [
    "# if statement\n",
    "\n",
    "val=input(\"Enter the number \")\n",
    "value_int=int(val)\n",
    "if(value_int%2==0):\n",
    "    print(\"the number is even\")"
   ]
  },
  {
   "cell_type": "code",
   "execution_count": 2,
   "id": "1d1e127a",
   "metadata": {},
   "outputs": [
    {
     "name": "stdout",
     "output_type": "stream",
     "text": [
      "enter the number25.2\n",
      "the number is odd\n"
     ]
    }
   ],
   "source": [
    "# if else statement\n",
    "val=input(\"enter the number\")\n",
    "val_float=float(val)\n",
    "if(val_float%2==0):\n",
    "    print(\"the number is even\")\n",
    "else:\n",
    "    print(\"the number is odd\")"
   ]
  },
  {
   "cell_type": "code",
   "execution_count": 3,
   "id": "442a47c6",
   "metadata": {},
   "outputs": [
    {
     "name": "stdout",
     "output_type": "stream",
     "text": [
      "Enter the age66\n",
      "Senior Citizen\n"
     ]
    }
   ],
   "source": [
    "## Age form\n",
    "##nested if else condition\n",
    "\n",
    "age=int(input(\"Enter the age\"))\n",
    "\n",
    "if(age<18):\n",
    "    print(\"Minor Age\")\n",
    "elif(age>=18 and age<=45):\n",
    "    print(\"Mid Age\")\n",
    "elif(age>45 and age<=50):\n",
    "    print(\"Senior Mid Age\")\n",
    "else: \n",
    "    print(\"Senior Citizen\")"
   ]
  },
  {
   "cell_type": "code",
   "execution_count": 4,
   "id": "605d1bbf",
   "metadata": {},
   "outputs": [
    {
     "name": "stdout",
     "output_type": "stream",
     "text": [
      "Enter the age66\n",
      "Senior Citizen\n"
     ]
    }
   ],
   "source": [
    "# nested iflese\n",
    "\n",
    "\n",
    "age=float(input(\"Enter the age\"))\n",
    "\n",
    "if(age<18):\n",
    "    print(\"Minor Age\")\n",
    "    if(age<15):\n",
    "        print(\"You are in School\")\n",
    "    else:\n",
    "        print(\"You are in College\")\n",
    "elif(age>=18 and age<=45):\n",
    "    print(\"Mid Age\")\n",
    "    if (age<35):\n",
    "        print(\"you are younger\")\n",
    "    else:\n",
    "        print(\"you are not younger\")\n",
    "elif(age>45 and age<=50):\n",
    "    print(\"Senior Mid Age\")\n",
    "    if (age>56):\n",
    "        print(\"you are old man\")\n",
    "    else:\n",
    "        print(\"you are not old man\")\n",
    "else: \n",
    "    print(\"Senior Citizen\")"
   ]
  },
  {
   "cell_type": "code",
   "execution_count": 5,
   "id": "18114fff",
   "metadata": {},
   "outputs": [
    {
     "name": "stdout",
     "output_type": "stream",
     "text": [
      "1\n",
      "4\n",
      "9\n",
      "16\n",
      "25\n",
      "36\n",
      "49\n"
     ]
    }
   ],
   "source": [
    "## Loops statement\n",
    "## for loop, while loop\n",
    "lst=[1,2,3,4,5,6,7]\n",
    "for i in lst:\n",
    "    print(i**2)"
   ]
  },
  {
   "cell_type": "code",
   "execution_count": 6,
   "id": "7e6a1ea1",
   "metadata": {},
   "outputs": [
    {
     "name": "stdout",
     "output_type": "stream",
     "text": [
      "even sum is 3\n",
      "odd sum is 4\n"
     ]
    }
   ],
   "source": [
    "## find the sum of even and odd number\n",
    "lst=[1,2,3,4,5,6,7]\n",
    "even_number=0\n",
    "odd_number=0\n",
    "\n",
    "for i in lst:\n",
    "    if(i%2==0):\n",
    "        even_number=even_number+1\n",
    "    else:\n",
    "        odd_number=odd_number+1\n",
    "print(\"even sum is {}\".format(even_number))\n",
    "print(\"odd sum is {}\". format(odd_number))"
   ]
  },
  {
   "cell_type": "code",
   "execution_count": 7,
   "id": "ab9da9db",
   "metadata": {},
   "outputs": [
    {
     "name": "stdout",
     "output_type": "stream",
     "text": [
      "False\n",
      "True\n",
      "False\n",
      "True\n",
      "False\n",
      "True\n",
      "False\n"
     ]
    }
   ],
   "source": [
    "lst=[1,2,3,4,5,6,7]\n",
    "for i in lst:\n",
    "    print(i%2==0)\n",
    "  "
   ]
  },
  {
   "cell_type": "code",
   "execution_count": 8,
   "id": "c32a785a",
   "metadata": {},
   "outputs": [
    {
     "name": "stdout",
     "output_type": "stream",
     "text": [
      "30 25\n"
     ]
    }
   ],
   "source": [
    "## while condition\n",
    "\n",
    "i=0\n",
    "even_sum=0\n",
    "odd_sum=0\n",
    "while(i<=10):\n",
    "    \n",
    "    if(i%2==0):\n",
    "        even_sum=even_sum+i\n",
    "    else:\n",
    "        odd_sum=odd_sum+i\n",
    "       \n",
    "   \n",
    "        \n",
    "    i=i+1\n",
    "print(even_sum,odd_sum)"
   ]
  },
  {
   "cell_type": "code",
   "execution_count": 1,
   "id": "09ec307b",
   "metadata": {},
   "outputs": [
    {
     "name": "stdout",
     "output_type": "stream",
     "text": [
      "1\n",
      "2\n",
      "3\n",
      "4\n",
      "5\n",
      "6\n",
      "7\n",
      "8\n",
      "9\n",
      "10\n",
      "11\n"
     ]
    }
   ],
   "source": [
    "i=0\n",
    "even_number=0\n",
    "odd_number=0\n",
    "\n",
    "while(i<=10):\n",
    "    i=i+1\n",
    "    print(i)"
   ]
  },
  {
   "cell_type": "code",
   "execution_count": 4,
   "id": "094de9bb",
   "metadata": {},
   "outputs": [
    {
     "name": "stdout",
     "output_type": "stream",
     "text": [
      "0\n",
      "1\n",
      "2\n",
      "3\n"
     ]
    }
   ],
   "source": [
    "##break\n",
    "x=0\n",
    "while(x<10):\n",
    "    \n",
    "    if x==4:\n",
    "        break\n",
    "    print(x)\n",
    "    x=x+1"
   ]
  },
  {
   "cell_type": "code",
   "execution_count": 1,
   "id": "dde6112a",
   "metadata": {},
   "outputs": [
    {
     "name": "stdout",
     "output_type": "stream",
     "text": [
      "1\n",
      "2\n",
      "3\n",
      "4\n",
      "6\n",
      "7\n",
      "8\n",
      "9\n",
      "10\n",
      "11\n"
     ]
    }
   ],
   "source": [
    "## continue\n",
    "x=0\n",
    "while(x<=10):\n",
    "    x=x+1\n",
    "    if x==5:\n",
    "        continue\n",
    "    print(x)\n",
    "  "
   ]
  },
  {
   "cell_type": "code",
   "execution_count": null,
   "id": "c47e40eb",
   "metadata": {},
   "outputs": [],
   "source": []
  }
 ],
 "metadata": {
  "kernelspec": {
   "display_name": "Python 3",
   "language": "python",
   "name": "python3"
  },
  "language_info": {
   "codemirror_mode": {
    "name": "ipython",
    "version": 3
   },
   "file_extension": ".py",
   "mimetype": "text/x-python",
   "name": "python",
   "nbconvert_exporter": "python",
   "pygments_lexer": "ipython3",
   "version": "3.8.8"
  }
 },
 "nbformat": 4,
 "nbformat_minor": 5
}
